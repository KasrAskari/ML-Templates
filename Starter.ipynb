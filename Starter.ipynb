{
 "cells": [
  {
   "cell_type": "markdown",
   "metadata": {},
   "source": [
    "## 1-Importing Libraries"
   ]
  },
  {
   "cell_type": "code",
   "execution_count": 2,
   "metadata": {},
   "outputs": [],
   "source": [
    "# import numpy as np\n",
    "# import pandas as pd\n",
    "# import matplotlib.pyplot as plt"
   ]
  },
  {
   "cell_type": "markdown",
   "metadata": {},
   "source": [
    "## 2-Loading Dataset"
   ]
  },
  {
   "cell_type": "code",
   "execution_count": 1,
   "metadata": {},
   "outputs": [],
   "source": [
    "# df = pd.read_csv(\"filename\")\n",
    "\n",
    "# df.head()"
   ]
  },
  {
   "cell_type": "markdown",
   "metadata": {},
   "source": [
    "## 3- EDA (Exploratory Data Analysis)"
   ]
  },
  {
   "cell_type": "code",
   "execution_count": 3,
   "metadata": {},
   "outputs": [],
   "source": [
    "# df.describe()"
   ]
  },
  {
   "cell_type": "markdown",
   "metadata": {},
   "source": [
    "#### for Multiple & Polynomial Regression"
   ]
  },
  {
   "cell_type": "code",
   "execution_count": null,
   "metadata": {},
   "outputs": [],
   "source": [
    "# cdf = df[[]]\n",
    "# cdf.head()"
   ]
  },
  {
   "cell_type": "markdown",
   "metadata": {},
   "source": [
    "### - Histogram Visualization"
   ]
  },
  {
   "cell_type": "code",
   "execution_count": null,
   "metadata": {},
   "outputs": [],
   "source": [
    "# import matplotlib.pyplot as plt\n",
    "\n",
    "# viz = cdf[[]]\n",
    "\n",
    "# viz.hist(bins=20, figsize=(10, 8), edgecolor='black')\n",
    "# plt.suptitle('Histograms of Selected Features', fontsize=16)\n",
    "# plt.tight_layout(rect=[0, 0, 1, 0.95])\n",
    "# plt.show()"
   ]
  },
  {
   "cell_type": "markdown",
   "metadata": {},
   "source": [
    "## 4- Domain Expect\n",
    "- theroretical defense"
   ]
  },
  {
   "cell_type": "markdown",
   "metadata": {},
   "source": [
    "### Scatter Visualization"
   ]
  },
  {
   "cell_type": "code",
   "execution_count": null,
   "metadata": {},
   "outputs": [],
   "source": [
    "# plt.scatter(cdf.1, cdf.2, color = 'blue')\n",
    "# plt.xlabel(\"1\")\n",
    "# plt.ylabel(\"2\")\n",
    "# plt.show()"
   ]
  },
  {
   "cell_type": "markdown",
   "metadata": {},
   "source": [
    "## 5- Split data into Tran & Test"
   ]
  },
  {
   "cell_type": "code",
   "execution_count": null,
   "metadata": {},
   "outputs": [],
   "source": [
    "# msk = np.random.rand(len(df)) < 0.8\n",
    "# train = cdf[msk]\n",
    "# test = cdf[~msk]\n",
    "\n",
    "# print(msk)\n",
    "# print(~msk)\n",
    "# print(\"--------------------------- cdf -------------------------------\")\n",
    "# print(cdf)\n",
    "# print(\"-------------------------- Train --------------------------------\")\n",
    "# print(train)\n",
    "# print(\"-------------------------- Test ---------------------------------\")\n",
    "# print(test)"
   ]
  },
  {
   "cell_type": "markdown",
   "metadata": {},
   "source": [
    "## 6- Plotting Regression Model\n",
    "### Train & Test Data Distribution"
   ]
  },
  {
   "cell_type": "code",
   "execution_count": null,
   "metadata": {},
   "outputs": [],
   "source": [
    "# fig = plt.figure()\n",
    "# ax1 = fig.add_subplot(111)\n",
    "\n",
    "# ax1.scatter(train.1, train.2, color = 'blue')\n",
    "# ax1.scatter(test.1, test.2, color = 'red')\n",
    "\n",
    "# plt.xlabel(\"1\")\n",
    "# plt.ylabel(\"2\")\n",
    "# plt.show()"
   ]
  },
  {
   "cell_type": "markdown",
   "metadata": {},
   "source": [
    "## 7- Modeling Regression"
   ]
  },
  {
   "cell_type": "markdown",
   "metadata": {},
   "source": [
    "### for linear"
   ]
  },
  {
   "cell_type": "code",
   "execution_count": null,
   "metadata": {},
   "outputs": [],
   "source": [
    "# from sklearn import linear_model\n",
    "# reg = linear_model.LinearRegression()\n",
    "\n",
    "# train_x = np.asanyarray(train[['1']])\n",
    "# train_y = np.asanyarray(train[['2']])\n",
    "# reg.fit(train_x, train_y)\n",
    "\n",
    "# # The Coefficients\n",
    "# print(reg)\n",
    "# print('Coefficients: ', reg.coef_)\n",
    "# print('Intercept: ', reg.intercept_)\n"
   ]
  },
  {
   "cell_type": "markdown",
   "metadata": {},
   "source": [
    "### for Polynomial"
   ]
  },
  {
   "cell_type": "code",
   "execution_count": null,
   "metadata": {},
   "outputs": [],
   "source": [
    "# from sklearn.preprocessing import PolynomialFeatures\n",
    "# from sklearn import linear_model\n",
    "\n",
    "# train_x = np.asanyarray(train[['1']])\n",
    "# train_y = np.asanyarray(train[['2']])\n",
    "\n",
    "# test_x = np.asanyarray(test[['1']])\n",
    "# test_y = np.asanyarray(test[['2']])\n",
    "\n",
    "# print(train_x[:3])\n",
    "# poly = PolynomialFeatures(degree=2)\n",
    "# train_x_poly = poly.fit_transform(train_x)\n",
    "# train_x_poly"
   ]
  },
  {
   "cell_type": "markdown",
   "metadata": {},
   "source": [
    "#### linear model"
   ]
  },
  {
   "cell_type": "code",
   "execution_count": null,
   "metadata": {},
   "outputs": [],
   "source": [
    "# clf = linear_model.LinearRegression()\n",
    "# train_y_ = clf.fit(train_x_poly, train_y)\n",
    "\n",
    "# # The Coefficients\n",
    "# print('Coefficients: ', clf.coef_)\n",
    "# print('Intercept: ', clf.intercept_) "
   ]
  },
  {
   "cell_type": "markdown",
   "metadata": {},
   "source": [
    "### Model Visualization"
   ]
  },
  {
   "cell_type": "markdown",
   "metadata": {},
   "source": [
    "#### for linear models"
   ]
  },
  {
   "cell_type": "code",
   "execution_count": null,
   "metadata": {},
   "outputs": [],
   "source": [
    "# plt.scatter(train.1, train.2,  color='blue')\n",
    "# plt.plot(train_x, reg.coef_[0][0]*train_x + reg.intercept_[0], '-r')\n",
    "# plt.xlabel(\"1\")\n",
    "# plt.ylabel(\"2\")"
   ]
  },
  {
   "cell_type": "markdown",
   "metadata": {},
   "source": [
    "#### for multiple models"
   ]
  },
  {
   "cell_type": "code",
   "execution_count": null,
   "metadata": {},
   "outputs": [],
   "source": [
    "# import seaborn as sns\n",
    "# y_pred = reg.predict(x)\n",
    "\n",
    "# fig, axes = plt.subplots(1, 3, figsize=(18, 6))\n",
    "\n",
    "# # EngineSize vs Co2 Emissions\n",
    "# sns.scatterplot(ax=axes[0], x=train['1'], y=train['2'], color='blue', label='Actual')\n",
    "# sns.lineplot(ax=axes[0], x=train['1'], y=y_pred.flatten(), color='red', label='Predicted')\n",
    "# axes[0].set_title('1 vs 2')\n",
    "# axes[0].set_xlabel('1')\n",
    "# axes[0].set_ylabel('2')\n",
    "\n",
    "# # CYLINDERS vs CO2EMISSIONS\n",
    "# sns.scatterplot(ax=axes[1], x=train['3'], y=train['2'], color='blue', label='Actual')\n",
    "# sns.lineplot(ax=axes[1], x=train['3'], y=y_pred.flatten(), color='red', label='Predicted')\n",
    "# axes[1].set_title('3 vs 2')\n",
    "# axes[1].set_xlabel('3')\n",
    "# axes[1].set_ylabel('2')\n",
    "\n",
    "# # FUELCONSUMPTION_COMB vs CO2EMISSIONS\n",
    "# sns.scatterplot(ax=axes[2], x=train['4'], y=train['2'], color='blue', label='Actual')\n",
    "# sns.lineplot(ax=axes[2], x=train['4'], y=y_pred.flatten(), color='red', label='Predicted')\n",
    "# axes[2].set_title('4 vs 2')\n",
    "# axes[2].set_xlabel('4')\n",
    "# axes[2].set_ylabel('2')\n",
    "\n",
    "# plt.tight_layout()\n",
    "# plt.show()"
   ]
  },
  {
   "cell_type": "markdown",
   "metadata": {},
   "source": [
    "### for polynomial"
   ]
  },
  {
   "cell_type": "code",
   "execution_count": null,
   "metadata": {},
   "outputs": [],
   "source": [
    "# plt.scatter(train.1, train.2, color='Blue')\n",
    "\n",
    "# xx = np.arange(0.0, 10.0, 0.1)\n",
    "# yy = clf.intercept_[0] + clf.coef_[0][1]*xx + clf.coef_[0][2]*np.power(xx, 2)\n",
    "\n",
    "# plt.plot(xx, yy, '-r')\n",
    "# plt.xlabel(\"1\")\n",
    "# plt.ylabel(\"2\")"
   ]
  },
  {
   "cell_type": "markdown",
   "metadata": {},
   "source": [
    "## 8- Evaluation Model"
   ]
  },
  {
   "cell_type": "markdown",
   "metadata": {},
   "source": [
    "### for linear models"
   ]
  },
  {
   "cell_type": "code",
   "execution_count": null,
   "metadata": {},
   "outputs": [],
   "source": [
    "# from sklearn.metrics import r2_score\n",
    "\n",
    "# test_x = np.asanyarray(test[['1']])\n",
    "# test_y = np.asanyarray(test[['2']])\n",
    "# test_y_ = reg.predict(test_x)\n",
    "\n",
    "# print(\"Mean absolute error: %.2f\" % np.mean(np.absolute(test_y_ - test_y)))\n",
    "# print(\"Mean Square Error (MSE): %.2f\" % np.mean((test_y_ - test_y) ** 2))\n",
    "# print(\"R2-score: %.2f\" % r2_score(test_y , test_y_))"
   ]
  },
  {
   "cell_type": "markdown",
   "metadata": {},
   "source": [
    "### for multiple models"
   ]
  },
  {
   "cell_type": "code",
   "execution_count": null,
   "metadata": {},
   "outputs": [],
   "source": [
    "# y_hat = reg.predict(test[['1','3','4']])\n",
    "# x = np.asanyarray(test[['1','3','4']])\n",
    "# y = np.asanyarray(test[['2']])\n",
    "\n",
    "# print(\"Residental Sum of Squares: %.2f\" % np.mean((y_hat - y) ** 2))\n",
    "# print(\"Variance Score: %.2f\" % reg.score(x, y))"
   ]
  },
  {
   "cell_type": "markdown",
   "metadata": {},
   "source": [
    "### for polynomial"
   ]
  },
  {
   "cell_type": "code",
   "execution_count": null,
   "metadata": {},
   "outputs": [],
   "source": [
    "# from sklearn.metrics import r2_score\n",
    "\n",
    "# test_x_poly = poly.fit_transform(test_x)\n",
    "# test_y_ = clf.predict(test_x_poly)\n",
    "\n",
    "# print(\"Mean Absolute Error: %.2f\" % np.mean(np.absolute(test_y_ - test_y)))\n",
    "# print(\"Residual Sum of Squares (MSE): %.2f\" % np.mean((test_y_ - test_y) ** 2))\n",
    "# print(\"R2-Ccore: %.2f\" % r2_score(test_y,test_y_))"
   ]
  }
 ],
 "metadata": {
  "kernelspec": {
   "display_name": "myvenv",
   "language": "python",
   "name": "python3"
  },
  "language_info": {
   "codemirror_mode": {
    "name": "ipython",
    "version": 3
   },
   "file_extension": ".py",
   "mimetype": "text/x-python",
   "name": "python",
   "nbconvert_exporter": "python",
   "pygments_lexer": "ipython3",
   "version": "3.12.1"
  }
 },
 "nbformat": 4,
 "nbformat_minor": 2
}
